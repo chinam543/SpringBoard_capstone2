{
 "cells": [
  {
   "cell_type": "markdown",
   "metadata": {},
   "source": [
    "## Transaction Data"
   ]
  },
  {
   "cell_type": "code",
   "execution_count": 1,
   "metadata": {},
   "outputs": [],
   "source": [
    "import pandas as pd\n",
    "import re\n",
    "import numpy as np\n",
    "\n",
    "test_transaction = pd.read_csv('C:\\\\Users\\\\chi\\\\Desktop\\\\spring_board\\\\capstone_2\\\\test_transaction.csv')\n",
    "\n",
    "def find_from(mylist, exp):\n",
    "    r = re.compile(exp)\n",
    "    newlist = list(filter(r.match, mylist))\n",
    "    return newlist\n",
    "\n",
    "def transaction_transform(dataset):\n",
    "    column_list = [*dataset.columns]\n",
    "    fill_col = []\n",
    "    fill_col.extend(find_from(column_list, \"dist+\"))\n",
    "    fill_col.extend(find_from(column_list, \"C+\"))\n",
    "    fill_col.extend(find_from(column_list, \"D+\"))\n",
    "    fill_col.extend(find_from(column_list, \"V+\"))\n",
    "    fill_col.extend(find_from(column_list, \"M+\"))\n",
    "    \n",
    "    #fill Nan with 0.0 in fill_col list\n",
    "    dataset[fill_col] = dataset[fill_col].fillna(0.0)\n",
    "    \n",
    "    #fill 'NI' as No Information on categorical Nan values, this creates new category\n",
    "    column_names = dataset.isnull().sum()[dataset.isnull().sum() > 0].index\n",
    "    dataset[column_names] = dataset[column_names].fillna('NI')\n",
    "    \n",
    "    \n",
    "    cat_col = [*column_names]\n",
    "    m_col = [*dataset.select_dtypes(include = ['object']).columns]\n",
    "    cat_col.append('ProductCD')\n",
    "    cat_col.append('card1')\n",
    "    cat_col.extend(m_col)\n",
    "    cat_col = list(set(cat_col))\n",
    "    cat_col.sort()\n",
    "    \n",
    "    dataset.to_csv('C:\\\\Users\\\\chi\\\\Desktop\\\\spring_board\\\\capstone_2\\\\data\\\\Clean_transaction_test.csv', index=False)\n",
    "    # It will be stored in the data file\n",
    "\n",
    "transaction_transform(test_transaction)"
   ]
  },
  {
   "cell_type": "markdown",
   "metadata": {},
   "source": [
    "# Identity data"
   ]
  },
  {
   "cell_type": "code",
   "execution_count": 8,
   "metadata": {},
   "outputs": [],
   "source": [
    "identity_test = pd.read_csv('C:\\\\Users\\\\chi\\\\Desktop\\\\spring_board\\\\capstone_2\\\\test_identity.csv')\n",
    "\n",
    "def identity_transform(dataset):\n",
    "    dataset.columns = dataset.columns.str.replace('-','_')\n",
    "    dataset.drop(columns=['id_07', 'id_08'], inplace = True)\n",
    "    \n",
    "    cols = ['id_03', 'id_04', 'id_09', 'id_10']\n",
    "    dataset[cols] = dataset[cols].fillna(0.0)\n",
    "    \n",
    "    dataset['id_02'] = dataset['id_02'].fillna(dataset['id_02'].median())\n",
    "    dataset['id_05'] = dataset['id_05'].fillna(dataset['id_05'].median())\n",
    "    dataset['id_06'] = dataset['id_06'].fillna(dataset['id_06'].median())\n",
    "    dataset['id_11'] = dataset['id_11'].fillna(dataset['id_11'].median())\n",
    "    \n",
    "    nulls = dataset.isnull().sum().sort_values(ascending =False)[dataset.isnull().sum() > 0]\n",
    "    dataset[nulls.index] = dataset[nulls.index].fillna('NI')\n",
    "    \n",
    "    dataset.to_csv('C:\\\\Users\\\\chi\\\\Desktop\\\\spring_board\\\\capstone_2\\\\data\\\\Clean_identity_test.csv', index=False)\n",
    "\n",
    "\n",
    "identity_transform(identity_test)"
   ]
  },
  {
   "cell_type": "code",
   "execution_count": null,
   "metadata": {},
   "outputs": [],
   "source": []
  }
 ],
 "metadata": {
  "kernelspec": {
   "display_name": "Python 3",
   "language": "python",
   "name": "python3"
  },
  "language_info": {
   "codemirror_mode": {
    "name": "ipython",
    "version": 3
   },
   "file_extension": ".py",
   "mimetype": "text/x-python",
   "name": "python",
   "nbconvert_exporter": "python",
   "pygments_lexer": "ipython3",
   "version": "3.7.6"
  }
 },
 "nbformat": 4,
 "nbformat_minor": 4
}
